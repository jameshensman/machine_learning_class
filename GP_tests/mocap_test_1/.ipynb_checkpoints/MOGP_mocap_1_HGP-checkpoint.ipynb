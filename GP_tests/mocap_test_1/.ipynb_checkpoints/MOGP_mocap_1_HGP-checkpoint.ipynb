{
 "cells": [
  {
   "cell_type": "markdown",
   "metadata": {
    "collapsed": true
   },
   "source": [
    "# Hierarchicial GPs, applied to Mocap data-set"
   ]
  },
  {
   "cell_type": "markdown",
   "metadata": {},
   "source": [
    "Some previous definitions and library invocations needed to process data"
   ]
  },
  {
   "cell_type": "code",
   "execution_count": 1,
   "metadata": {
    "collapsed": false
   },
   "outputs": [
    {
     "name": "stdout",
     "output_type": "stream",
     "text": [
      "Populating the interactive namespace from numpy and matplotlib\n"
     ]
    }
   ],
   "source": [
    "%pylab inline\n",
    "import numpy as np\n",
    "import pylab as pb\n",
    "import GPy\n",
    "import urllib\n"
   ]
  },
  {
   "cell_type": "markdown",
   "metadata": {},
   "source": [
    "Fisrt is necesary to retrieve the data from the mocap database located at: http://mocap.cs.cmu.edu/, there one can encounter different datasets of human motion on different situations. There are several files describing the motion of an skeleton, for the purpose of this implementation one can use the .amc files, which specifies the angle of each joint defined by the skeleton for an specific time stamp or frame. The following code retrieves the data of an specific movement previously defined by the user, for that objective first one have to identify the desired motion in this case, a soccer player kicking a ball: http://mocap.cs.cmu.edu/search.php?subjectnumber=10&trinum=6"
   ]
  },
  {
   "cell_type": "markdown",
   "metadata": {},
   "source": [
    "Then is necesary to copy the link of the amc file located in that page, for this case: mocap.cs.cmu.edu/subjects/10/10_06.amc, then it's only replacing it in the value of the url variable like this:"
   ]
  },
  {
   "cell_type": "markdown",
   "metadata": {},
   "source": [
    "The file will be downloaded in the same dir where your code or notebook is located, the next code parses the file and extract all the information related with the angles of the joints on each frame, and stores that information in the variable X."
   ]
  },
  {
   "cell_type": "code",
   "execution_count": 57,
   "metadata": {
    "collapsed": false
   },
   "outputs": [
    {
     "name": "stdout",
     "output_type": "stream",
     "text": [
      "File 35_10.amc succesfully downloaded\n",
      "Reading header...\n",
      "now reading frames\n",
      "File succesfully loaded\n",
      "File 08_07.amc succesfully downloaded\n",
      "Reading header...\n",
      "now reading frames\n",
      "File succesfully loaded\n",
      "File 16_33.amc succesfully downloaded\n",
      "Reading header...\n",
      "now reading frames\n",
      "File succesfully loaded\n",
      "File 56_01.amc succesfully downloaded\n",
      "Reading header...\n",
      "now reading frames\n",
      "File succesfully loaded\n",
      "File 17_04.amc succesfully downloaded\n",
      "Reading header...\n",
      "now reading frames\n",
      "File succesfully loaded\n",
      "Subject tests files retrieved succesfully\n"
     ]
    },
    {
     "data": {
      "text/plain": [
       "'\\ndesired_joints = [8,9,10,12,15,16,17,19]\\nXX = X\\nX, bone_map_id = GetJoints(desired_joints, X)\\nX_sub_sampled = SubSampling(X, 200)\\nX = X_sub_sampled\\ntime_stamps = np.arange(X.shape[1])\\ninput_t = time_stamps\\ninput_t = input_t[:,None]\\n\\nfor i in desired_joints:\\n    print i, bone_name[i]\\n\\nprint X.shape, len(bone_map_id)\\nX,bone_map_id = RemoveNoisySignals(X, input_t, bone_map_id)\\nprint X.shape, len(bone_map_id)\\nprint bone_map_id'"
      ]
     },
     "execution_count": 57,
     "metadata": {},
     "output_type": "execute_result"
    }
   ],
   "source": [
    "def RetrieveDataFrom(sub, test):\n",
    "    url = \"http://mocap.cs.cmu.edu/subjects/\"    \n",
    "    file_name = sub + '_' + test + '.amc'\n",
    "    url = url + sub + '/' + file_name\n",
    "    url = (url) # Tell to python where is the file\n",
    "    urllib.urlretrieve(url, file_name) # Tell python to retrieve the file\n",
    "    amc_file = open(file_name, 'r')\n",
    "    print 'File ' + file_name + ' succesfully downloaded'\n",
    "    cont = 0\n",
    "    read_frames = False\n",
    "    print 'Reading header...' \n",
    "    frame = 1\n",
    "    bone = 0\n",
    "    bone_map_dof = {} # Saves the degree of freedom of each joint the key is the signal id\n",
    "    bone_name = {} # saves the id and the name of the joint\n",
    "    all_samples = {} \n",
    "    bone_map_id = [] # A list of tuples (a,b), a: id of the joint, b: id of the signal corresponding to each joint Dof\n",
    "\n",
    "    samples_frame = 0\n",
    "    for mline in amc_file:\n",
    "        if(mline == \":DEGREES\\r\\n\" and read_frames == False):\n",
    "            read_frames = True\n",
    "            print 'now reading frames'\n",
    "            continue\n",
    "        elif(read_frames):\n",
    "            params = mline.split(' ')\n",
    "            if params[0] == str(frame) + '\\r\\n':\n",
    "                #print 'reading frame: ' + str(frame)\n",
    "                if(frame >= 2):\n",
    "                    #print samples_frame\n",
    "                    all_samples[frame - 1] = samples_frame\n",
    "\n",
    "                samples_frame = 0\n",
    "                frame += 1\n",
    "                bone = 1\n",
    "            else:\n",
    "                if(bone == 1):\n",
    "                    samples_frame = np.array(params[1:len(params)], dtype=float)\n",
    "                    #print samples_frame\n",
    "                    bone_map_dof[bone] = len(params) - 1\n",
    "                    bone_name[bone] = params[0]\n",
    "                    if(frame == 2):\n",
    "                        for i in range(0,len(params) - 1):\n",
    "                            tmp_tuple = (bone, i+1)\n",
    "                            bone_map_id.append(tmp_tuple)\n",
    "                else:        \t\t\n",
    "                    bone_sample = np.array(params[1:len(params)], dtype=float)\n",
    "                    samples_frame = np.append(samples_frame, bone_sample)\n",
    "                    bone_map_dof[bone] = len(params) - 1\n",
    "                    bone_name[bone] = params[0]\n",
    "                    if(frame == 2):\n",
    "                        for i in range(0,len(params) - 1):\n",
    "                            tmp_tuple = (bone, i+1)\n",
    "                            bone_map_id.append(tmp_tuple)\n",
    "                bone += 1\n",
    "\n",
    "    all_samples[frame - 1] = samples_frame\n",
    "    #print all_samples[1], bone_map, bone_name\n",
    "    X = np.zeros((all_samples[1].shape[0], len(all_samples)))\n",
    "\n",
    "    for i in range(0,len(all_samples)):\n",
    "        X[:,i] = all_samples[i + 1]\n",
    "    print 'File succesfully loaded'\n",
    "    mtest = sub + '_' + test\n",
    "    return X, bone_map_dof, bone_name, bone_map_id, mtest\n",
    "\n",
    "def GetMotionFiles(subjec_test_list):\n",
    "    ret = []\n",
    "    mmin = 10000000\n",
    "    for i in subjec_test_list:\n",
    "        sub = i[0]\n",
    "        test = i[1]\n",
    "        tmp_tuple = RetrieveDataFrom(sub, test)\n",
    "        if(tmp_tuple[0].shape[1] < mmin):\n",
    "            mmin = tmp_tuple[0].shape[1]\n",
    "        ret.append(tmp_tuple)\n",
    "    print 'Subject tests files retrieved succesfully'\n",
    "    for i in range(0,len(ret)):\n",
    "        X = ret[i][0]\n",
    "        X = X[:,0:mmin]\n",
    "        new_tuple = (X, ret[i][1], ret[i][2], ret[i][3], ret[i][4])\n",
    "        ret[i] = new_tuple\n",
    "    return ret        \n",
    "\n",
    "def GetJoints(djoints, X):\n",
    "    X_joints = np.zeros((1,X.shape[1]))\n",
    "    signals_id = []\n",
    "    #X_joints = np.matrix(X_joints)\n",
    "    for i in djoints:\n",
    "        l = 0\n",
    "        k = 0\n",
    "        tmp_samples = 0\n",
    "        for j in bone_map_dof:\n",
    "            k += bone_map_dof[j]\n",
    "            if(i == j):\n",
    "                tmp_samples = X[l:k,:]\n",
    "                X_joints = np.vstack((X_joints, tmp_samples))\n",
    "                for w in range(0,bone_map_dof[j]):\n",
    "                    tmp_tuple = (i, w + 1)\n",
    "                    signals_id.append(tmp_tuple)\n",
    "                break       \n",
    "            l = k\n",
    "    #print X_joints.shape\n",
    "    X_joints = X_joints[1:X_joints.shape[0], :]\n",
    "    #print X_joints.shape\n",
    "    #print signals_id\n",
    "    return X_joints, signals_id\n",
    "\n",
    "def SubSampling(data, samples):    \n",
    "    ret = np.zeros((data.shape[0], samples))\n",
    "    #ret = np.matrix(ret)\n",
    "    if(samples > data.shape[1]/2):\n",
    "        print 'samples need to be less or equal than half of the real size'\n",
    "        return ret \n",
    "    \n",
    "    dif = data.shape[1]/samples\n",
    "    cont = 0\n",
    "    idx = 0\n",
    "    while idx < samples:\n",
    "        #print cont,idx\n",
    "        ret[:, idx] = data[:, cont]\n",
    "        cont += dif\n",
    "        idx += 1\n",
    "    return ret       \n",
    "\n",
    "\n",
    "def IsNoisySignal(X,Y):\n",
    "    d = 1          # input dimension\n",
    "    var = 10.       # variance\n",
    "    theta = 50.0 \n",
    "    k = GPy.kern.RBF(d, variance=var, lengthscale=theta)\n",
    "    C = k.K(X)\n",
    "    m = GPy.models.GPRegression(X,Y,k)\n",
    "    m.optimize()\n",
    "    var_signal = m.rbf.variance\n",
    "    #print m\n",
    "    var_noise = m.Gaussian_noise.variance\n",
    "    return (np.log(var_signal / var_noise) <= 0.0) # signal to noise ratio\n",
    "\n",
    "def RemoveNoisySignals(X, input_t, bone_map_id):\n",
    "    ret_X = X\n",
    "    ret_bone_map_id = []\n",
    "    noise_index = np.ones(ret_X.shape[0], dtype=bool)\n",
    "    for i in range(0, X.shape[0]):\n",
    "        Y = X[i,:]\n",
    "        #pb.plot(input_t, X[i,:])\n",
    "        Y = Y[:,None]\n",
    "        if IsNoisySignal(input_t, Y):\n",
    "            print 'removing noisy signal: ', 'bone: ', bone_name[bone_map_id[i][0]], ' DoF number: ', bone_map_id[i][1]\n",
    "            noise_index[i] = False\n",
    "            \n",
    "    ret_X = ret_X[noise_index, :]\n",
    "    for i in range(X.shape[0]):\n",
    "        if(noise_index[i]):\n",
    "            ret_bone_map_id.append(bone_map_id[i])\n",
    "\n",
    "    return ret_X, ret_bone_map_id\n",
    "    \n",
    "\n",
    "desired_subject_tests = [('35','10'), ('08', '07'), ('16', '33'), ('56', '01'), ('17', '04')]\n",
    "subject_tests = GetMotionFiles(desired_subject_tests)\n",
    "\n",
    "'''\n",
    "desired_joints = [8,9,10,12,15,16,17,19]\n",
    "XX = X\n",
    "X, bone_map_id = GetJoints(desired_joints, X)\n",
    "X_sub_sampled = SubSampling(X, 200)\n",
    "X = X_sub_sampled\n",
    "time_stamps = np.arange(X.shape[1])\n",
    "input_t = time_stamps\n",
    "input_t = input_t[:,None]\n",
    "\n",
    "for i in desired_joints:\n",
    "    print i, bone_name[i]\n",
    "\n",
    "print X.shape, len(bone_map_id)\n",
    "X,bone_map_id = RemoveNoisySignals(X, input_t, bone_map_id)\n",
    "print X.shape, len(bone_map_id)\n",
    "print bone_map_id'''"
   ]
  },
  {
   "cell_type": "code",
   "execution_count": 60,
   "metadata": {
    "collapsed": false
   },
   "outputs": [
    {
     "data": {
      "image/png": "[encoded data removed]",
      "text/plain": [
       "<matplotlib.figure.Figure at 0x7fbc832ad850>"
      ]
     },
     "metadata": {},
     "output_type": "display_data"
    }
   ],
   "source": [
    "for i in range(0,len(subject_tests)):\n",
    "    # extract the event\n",
    "    X = subject_tests[i][0]\n",
    "    time_stamps = np.arange(X.shape[1])\n",
    "    x_event = time_stamps\n",
    "    y_event = X[0,:]\n",
    "    mlabel = subject_tests[i][4]\n",
    "    pb.plot(x_event, y_event, label=mlabel)\n",
    "    pb.legend(loc='upper right')\n",
    "    pb.xlim(0.0, 400)"
   ]
  },
  {
   "cell_type": "code",
   "execution_count": 47,
   "metadata": {
    "collapsed": false
   },
   "outputs": [],
   "source": [
    "def SetInputTMOGP(X, input_t, n_signals=5):\n",
    "    sup_input = input_t[:,0]\n",
    "    sup_input_id = np.zeros(input_t.shape[0])\n",
    "    sup_output = X[0,:]\n",
    "    tmp_output = sup_output\n",
    "    tmp_input = sup_input\n",
    "    \n",
    "    for i in range(1,n_signals):\n",
    "        tmp_input = np.append(tmp_input, sup_input)\n",
    "        tmp_input_id = np.linspace(i,i,X.shape[1])\n",
    "        sup_input_id = np.append(sup_input_id, tmp_input_id)\n",
    "        tmp_output = np.append(tmp_output, X[i,:])\n",
    "\n",
    "    sup_input = tmp_input\n",
    "    #sup_input = sup_input*(1/100.0)\n",
    "    sup_output = tmp_output\n",
    "    sup_output = sup_output[:,None]\n",
    "    all_X = np.vstack((sup_input, sup_input_id))\n",
    "    all_X = np.transpose(all_X)\n",
    "    return all_X, sup_output\n",
    "\n",
    "def ComputeMSQERR(a,b):\n",
    "    mean_sq_err = a - b\n",
    "    mean_sq_err = np.power(mean_sq_err, 2)\n",
    "    val_mean_sq_err = np.sum(mean_sq_err) / mean_sq_err.shape[0]\n",
    "    return val_mean_sq_err\n",
    "\n",
    "def ComputeSMSE(F, Y, var):\n",
    "    mean_sq_err = Y - F\n",
    "    mean_sq_err = np.power(mean_sq_err, 2)\n",
    "    all_var = np.sum(var)\n",
    "    sms_err = mean_sq_err/all_var\n",
    "    val_smse = np.sum(sms_err)/F.shape[0]\n",
    "    return val_smse\n",
    "\n",
    "def ComputeSLL(F, Y, var, gaussian_noise_var):\n",
    "    #print gaussian_noise_var.shape\n",
    "    mean_sq_err = Y - F\n",
    "    var = var + gaussian_noise_var\n",
    "    mean_sq_err = np.power(mean_sq_err, 2)\n",
    "    mean_sq_err = np.divide(mean_sq_err, 2.0*var)\n",
    "    log_term = 0.5*np.log(var*2.0*np.pi)\n",
    "    sll = log_term + mean_sq_err\n",
    "    val_sll = np.sum(sll)/F.shape[0]\n",
    "    return -1.0*val_sll\n",
    "\n",
    "def PlottingModel(t,X,model,n_outputs):\n",
    "    for i in range(n_outputs):\n",
    "        model.plot(fignum=1,fixed_inputs=[(1, i)], plot_raw=True)\n",
    "\n",
    "    for i in range(0,n_outputs):\n",
    "        # extract the event \n",
    "        x_event = t\n",
    "        y_event = X[i,:]\n",
    "        pb.plot(x_event, y_event)\n"
   ]
  },
  {
   "cell_type": "code",
   "execution_count": null,
   "metadata": {
    "collapsed": true
   },
   "outputs": [],
   "source": []
  }
 ],
 "metadata": {
  "kernelspec": {
   "display_name": "Python 2",
   "language": "python",
   "name": "python2"
  },
  "language_info": {
   "codemirror_mode": {
    "name": "ipython",
    "version": 2
   },
   "file_extension": ".py",
   "mimetype": "text/x-python",
   "name": "python",
   "nbconvert_exporter": "python",
   "pygments_lexer": "ipython2",
   "version": "2.7.6"
  }
 },
 "nbformat": 4,
 "nbformat_minor": 0
}
