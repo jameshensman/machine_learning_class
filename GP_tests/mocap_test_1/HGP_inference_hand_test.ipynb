{
 "cells": [
  {
   "cell_type": "markdown",
   "metadata": {},
   "source": [
    "## Computing the parent posterior given its children"
   ]
  },
  {
   "cell_type": "markdown",
   "metadata": {},
   "source": [
    "AS we stated before what we want is to compute the posterior distribution for the parent signal given that we just observed it's children, then iniitially we compute the covariance matrix for the parent using the \"optimized kernel\""
   ]
  },
  {
   "cell_type": "markdown",
   "metadata": {},
   "source": [
    "### Prior of the parent"
   ]
  },
  {
   "cell_type": "code",
   "execution_count": null,
   "metadata": {
    "collapsed": true
   },
   "outputs": [],
   "source": [
    "kernel_parent = model.kern.Mat32_1\n",
    "inp = np.arange(inp.shape[0])\n",
    "T = inp[:, None]\n",
    "C_parent = kernel_parent.K(T, None)\n",
    "plt.imshow(C_parent)\n",
    "K_HGP = np.matrix(C)"
   ]
  },
  {
   "cell_type": "markdown",
   "metadata": {},
   "source": [
    "We show the shape of the full joint covariance between the parent(the one we want to predict) and its sons(the ones we observed), then the posterior is computed using the next reasoning:"
   ]
  },
  {
   "cell_type": "markdown",
   "metadata": {},
   "source": [
    "if $ \\pmb{K_g}$:  Covariance of the parent signal, $ \\pmb{K_{hgp}}$: Covariance of the sons using the hierarchical model, then the full joint distribution has mean zero and covariance:\n",
    "$$ Cov = \\begin{bmatrix}\n",
    "    \\pmb{K_{hgp}} & \\pmb{K_{hgp,g}} \\\\\n",
    "    \\pmb{K_{g,hgp}} & \\pmb{K_g} \\\\\n",
    "\\end{bmatrix}\n",
    "$$\n",
    "then the posterior distribution(predictive distribution) has:\n",
    "\n",
    "$$\\pmb{\\mu_g{posterior}} = \\pmb{K_{g,hgp}K_{hgp}^{-1}Y_{hat}} $$\n",
    "$$\\pmb{K_g{posterior}} = \\pmb{K_g} - \\pmb{K_{g,hgp}K_{hgp}^{-1}K_{hgp,g}} $$"
   ]
  },
  {
   "cell_type": "code",
   "execution_count": null,
   "metadata": {
    "collapsed": true
   },
   "outputs": [],
   "source": [
    "C_parlist = []\n",
    "for i in range(0,n_sons):\n",
    "    C_parlist.append(C_parent)\n",
    "\n",
    "tmp_kg = np.vstack(C_parlist)\n",
    "print tmp_kg.shape\n",
    "full_K = np.vstack([np.hstack([K_HGP, tmp_kg]), np.hstack([tmp_kg.T, C_parent])])    \n",
    "plt.figure(1)\n",
    "plt.title('Full joint covariance')\n",
    "plt.imshow(full_K)\n",
    "\n",
    "posterior_mean = tmp_kg.T*np.linalg.inv(K_HGP)*Y_hat\n",
    "posterior_cov = C_parent - (tmp_kg.T*np.linalg.inv(K_HGP)*tmp_kg)\n",
    "\n",
    "plt.figure(2)\n",
    "plt.title('Posterior covariance of parent')\n",
    "plt.imshow(posterior_cov)\n",
    "time_size = C_parent.shape[0]"
   ]
  }
 ],
 "metadata": {
  "kernelspec": {
   "display_name": "Python 2",
   "language": "python",
   "name": "python2"
  },
  "language_info": {
   "codemirror_mode": {
    "name": "ipython",
    "version": 2
   },
   "file_extension": ".py",
   "mimetype": "text/x-python",
   "name": "python",
   "nbconvert_exporter": "python",
   "pygments_lexer": "ipython2",
   "version": "2.7.11"
  }
 },
 "nbformat": 4,
 "nbformat_minor": 0
}
